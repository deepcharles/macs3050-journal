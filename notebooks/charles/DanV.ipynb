{
 "cells": [
  {
   "cell_type": "raw",
   "id": "76dbb428-4bf1-4c8e-aee1-d5b2ed5156b1",
   "metadata": {},
   "source": [
    "---\n",
    "title: \"Network Representation Of Wine Ratings in 2019\"\n",
    "author: \"Kyle Truschel and Danny Vanegas\"\n",
    "date: today\n",
    "format:\n",
    "    html:\n",
    "        code-fold: true\n",
    "        theme: journal\n",
    "---"
   ]
  },
  {
   "cell_type": "markdown",
   "id": "452e1839-d55c-49db-b772-af650e0b6d43",
   "metadata": {},
   "source": [
    "## Introduction\n",
    "Our group decided to analyze wine data from 2019 to search for the most quality wines available at that time.\n",
    "In particular, we wanted to find out the most valuable wine with context based on price and score.\n",
    "Data was compiled from the tidytuesday github, who provided a large amount of wine related data from 2019."
   ]
  },
  {
   "cell_type": "markdown",
   "id": "f09be1a5-32cb-44a7-9644-8fc33aeffb62",
   "metadata": {},
   "source": [
    " <img src=\"https://images.pexels.com/photos/3171158/pexels-photo-3171158.jpeg\" alt=\"Person pouring wine in wine glass\" width=\"500\" height=\"600\"> "
   ]
  },
  {
   "cell_type": "markdown",
   "id": "e92c2f91-fb0b-4c85-8c96-0364c75048f9",
   "metadata": {},
   "source": [
    "## Simple data exploration\n",
    "The first critera we examined was the top 25 best winerys.\n",
    "The best critera was examined based on points"
   ]
  },
  {
   "cell_type": "code",
   "execution_count": null,
   "id": "0a40ffce-b5e9-4056-aef9-3481c23093b3",
   "metadata": {},
   "outputs": [],
   "source": []
  }
 ],
 "metadata": {
  "kernelspec": {
   "display_name": "Python 3 (ipykernel)",
   "language": "python",
   "name": "python3"
  },
  "language_info": {
   "codemirror_mode": {
    "name": "ipython",
    "version": 3
   },
   "file_extension": ".py",
   "mimetype": "text/x-python",
   "name": "python",
   "nbconvert_exporter": "python",
   "pygments_lexer": "ipython3",
   "version": "3.13.7"
  }
 },
 "nbformat": 4,
 "nbformat_minor": 5
}
